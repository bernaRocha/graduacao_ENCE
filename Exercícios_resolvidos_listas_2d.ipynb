{
 "cells": [
  {
   "cell_type": "markdown",
   "id": "938ac8f4",
   "metadata": {},
   "source": [
    "Escrever um programa que: (a) crie uma matriz 3 x 4 chamada “w” e armazene o valor 1\n",
    "em todas as suas posições; (b) imprima a matriz, mostrando uma linha embaixo da outra"
   ]
  },
  {
   "cell_type": "code",
   "execution_count": 1,
   "id": "1bc3be45",
   "metadata": {},
   "outputs": [
    {
     "name": "stdout",
     "output_type": "stream",
     "text": [
      "1 1 1 1 \n",
      "1 1 1 1 \n",
      "1 1 1 1 \n"
     ]
    }
   ],
   "source": [
    "m = 3; n = 4\n",
    "w = []\n",
    "for i in range(m):\n",
    "    w.append([1] * n)\n",
    "\n",
    "for i in range(m):\n",
    "    for j in range(n):\n",
    "         print(w[i][j], end=\" \")\n",
    "    print()"
   ]
  },
  {
   "cell_type": "code",
   "execution_count": 4,
   "id": "4132ffd4",
   "metadata": {},
   "outputs": [
    {
     "name": "stdout",
     "output_type": "stream",
     "text": [
      "[[1, 2, 3, 4], [5, 6, 7, 8], [9, 10, 11, 12]]\n"
     ]
    }
   ],
   "source": [
    "m = 3; n = 4\n",
    "w = []\n",
    "valor = 1\n",
    "for i in range(m):\n",
    "    linha = []\n",
    "    for j in range(n):\n",
    "        linha.append(valor)\n",
    "        valor += 1\n",
    "    w.append(linha)\n",
    "print(w)"
   ]
  },
  {
   "cell_type": "markdown",
   "id": "7fbdaa57",
   "metadata": {},
   "source": [
    "Escrever um programa que: crie uma matriz 5 x 5 de inteiros, armazene o valor 1 na\n",
    "diagonal principal e o valor 0 nas demais células. "
   ]
  },
  {
   "cell_type": "code",
   "execution_count": 7,
   "id": "73761e79",
   "metadata": {},
   "outputs": [
    {
     "name": "stdout",
     "output_type": "stream",
     "text": [
      "[[1, 0, 0, 0, 0], [0, 1, 0, 0, 0], [0, 0, 1, 0, 0], [0, 0, 0, 1, 0], [0, 0, 0, 0, 1]]\n",
      "     1     0     0     0     0\n",
      "     0     1     0     0     0\n",
      "     0     0     1     0     0\n",
      "     0     0     0     1     0\n",
      "     0     0     0     0     1\n"
     ]
    }
   ],
   "source": [
    "m=5\n",
    "a = []\n",
    "for i in range(m):\n",
    "    a.append([0] * m) # primeiro insere a linha apenas com 0's\n",
    "    a[i][i] = 1 # troca o valor da diagonal principal por 1\n",
    "print(a)\n",
    "\n",
    "for i in range(len(a)):\n",
    "    for j in range(len(a[0])):\n",
    "          print(f\"{a[i][j]:>6}\", end=\"\")\n",
    "    print()"
   ]
  },
  {
   "cell_type": "markdown",
   "id": "93456878",
   "metadata": {},
   "source": [
    "Elaborar um programa que primeiro leia do teclado a matriz quadrada M1 3x3 de reais.\n",
    "Após a leitura ser concluída,gere a matriz M2 com o conteúdo de M1 multiplicado por 2. Depois\n",
    "imprima M1 e M2 com o layout “bonito”."
   ]
  },
  {
   "cell_type": "code",
   "execution_count": 14,
   "id": "7ae99012",
   "metadata": {},
   "outputs": [
    {
     "name": "stdout",
     "output_type": "stream",
     "text": [
      "Digite o valor da célula [0,0] = 1\n",
      "Digite o valor da célula [0,1] = 2\n",
      "Digite o valor da célula [0,2] = 3\n",
      "Digite o valor da célula [1,0] = 4\n",
      "Digite o valor da célula [1,1] = 5\n",
      "Digite o valor da célula [1,2] = 6\n",
      "Digite o valor da célula [2,0] = 7\n",
      "Digite o valor da célula [2,1] = 8\n",
      "Digite o valor da célula [2,2] = 9\n"
     ]
    }
   ],
   "source": [
    "m = 3\n",
    "M1 = []\n",
    "for i in range(m): M1.append([0] * m)\n",
    "for i in range(m):\n",
    "    for j in range(m):\n",
    "        print(f'Digite o valor da célula [{i},{j}] = ', end=\"\")\n",
    "        M1[i][j] = float(input())"
   ]
  },
  {
   "cell_type": "code",
   "execution_count": 21,
   "id": "f3674fde",
   "metadata": {},
   "outputs": [
    {
     "data": {
      "text/plain": [
       "[[2.0, 4.0, 6.0], [8.0, 10.0, 12.0], [14.0, 16.0, 18.0]]"
      ]
     },
     "execution_count": 21,
     "metadata": {},
     "output_type": "execute_result"
    }
   ],
   "source": [
    "M2 = []\n",
    "for i in range(m):\n",
    "    linha = []\n",
    "    for j in range(m):\n",
    "        linha.append(M1[i][j] * 2)\n",
    "    M2.append(linha)\n",
    "M2"
   ]
  },
  {
   "cell_type": "code",
   "execution_count": 22,
   "id": "a53fa2e9",
   "metadata": {},
   "outputs": [
    {
     "name": "stdout",
     "output_type": "stream",
     "text": [
      "M1\n",
      "            1.0             2.0             3.0 \n",
      "            4.0             5.0             6.0 \n",
      "            7.0             8.0             9.0 \n",
      "M2\n",
      "           2.00            4.00            6.00 \n",
      "           8.00           10.00           12.00 \n",
      "          14.00           16.00           18.00 \n"
     ]
    }
   ],
   "source": [
    "print('M1')\n",
    "for i in range(m):\n",
    "    for j in range(m):\n",
    "        print(f\"{M1[i][j]:>15}\", end=\" \")\n",
    "    print()\n",
    "print('M2')\n",
    "for i in range(m):\n",
    "    for j in range(m):\n",
    "        print(f\"{M2[i][j]:>15.2f}\", end=\" \")\n",
    "    print()"
   ]
  },
  {
   "cell_type": "markdown",
   "id": "14e464d0",
   "metadata": {},
   "source": [
    "Escrever um programa que leia e depois imprima uma matriz m x n do tipo string,\n",
    "onde o tamanho máximo de m e n deve ser 100. "
   ]
  },
  {
   "cell_type": "code",
   "execution_count": null,
   "id": "0f36ecb7",
   "metadata": {},
   "outputs": [],
   "source": [
    "MAX = 100\n",
    "m = 0\n",
    "n = 0\n",
    "while (m == 0) or (m > 100):\n",
    "    print('Digite a quantidade de linhas da matriz (MAX = ', MAX, '): ')\n",
    "    m = int(input())\n",
    "while (n == 0) or (n > 100):\n",
    "    print('Digite a quantidade de colunas da matriz (MAX = ', MAX, '): ')\n",
    "    n = int(input())"
   ]
  },
  {
   "cell_type": "code",
   "execution_count": null,
   "id": "eef19bcb",
   "metadata": {},
   "outputs": [],
   "source": [
    "mat = []\n",
    "for i in range(m): mat.append([0] * n)\n",
    "    for i in range(m):\n",
    "        for j in range(n):\n",
    "        print('Elemento[', i, ',', j, '] = ', end=\"\")\n",
    "        mat[i][j] = input()\n",
    "        \n",
    "# PASSO 3: - imprime a matriz\n",
    "for i in range(m):\n",
    "    for j in range(n):\n",
    "        print(mat[i][j], end=' ')\n",
    "    print()"
   ]
  },
  {
   "cell_type": "markdown",
   "id": "1e13c037",
   "metadata": {},
   "source": [
    "Dada uma matriz A m x n de inteiros em memória, gere e imprima tA (a matriz\n",
    "transposta de A)"
   ]
  },
  {
   "cell_type": "code",
   "execution_count": 23,
   "id": "800ac6de",
   "metadata": {},
   "outputs": [],
   "source": [
    "A = [[2, 0, 3], [1, -1, 2]]\n",
    "m = len(A); n = len(A[0])\n",
    "\n",
    "tA = []\n",
    "for i in range(n): tA.append([0] * m)\n",
    "    \n",
    "for i in range(m):\n",
    "    for j in range(n):\n",
    "        tA[j][i] = A[i][j]"
   ]
  },
  {
   "cell_type": "code",
   "execution_count": 24,
   "id": "5e9f3db3",
   "metadata": {},
   "outputs": [
    {
     "name": "stdout",
     "output_type": "stream",
     "text": [
      "\n",
      "Matriz A\n",
      "        2         0         3 \n",
      "        1        -1         2 \n",
      "\n",
      "Matriz Transposta de A\n",
      "        2         1 \n",
      "        0        -1 \n",
      "        3         2 \n"
     ]
    }
   ],
   "source": [
    "print('\\nMatriz A')\n",
    "for i in range(m):\n",
    "    for j in range(n):\n",
    "        print(f\"{A[i][j]:>9}\", end=\" \")\n",
    "    print()\n",
    "    \n",
    "print('\\nMatriz Transposta de A')\n",
    "for i in range(n):\n",
    "    for j in range(m):\n",
    "        print(f\"{tA[i][j]:>9}\", end=\" \")\n",
    "    print()"
   ]
  },
  {
   "cell_type": "code",
   "execution_count": null,
   "id": "654f1fc3",
   "metadata": {},
   "outputs": [],
   "source": []
  }
 ],
 "metadata": {
  "kernelspec": {
   "display_name": "Python 3 (ipykernel)",
   "language": "python",
   "name": "python3"
  },
  "language_info": {
   "codemirror_mode": {
    "name": "ipython",
    "version": 3
   },
   "file_extension": ".py",
   "mimetype": "text/x-python",
   "name": "python",
   "nbconvert_exporter": "python",
   "pygments_lexer": "ipython3",
   "version": "3.11.3"
  }
 },
 "nbformat": 4,
 "nbformat_minor": 5
}
