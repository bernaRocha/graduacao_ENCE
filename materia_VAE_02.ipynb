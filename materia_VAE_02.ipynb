{
 "cells": [
  {
   "cell_type": "markdown",
   "id": "a7507755",
   "metadata": {},
   "source": [
    "Listas\n",
    "\n",
    "Sintaxe para fatiar uma lista w: w[inicio:fim:incremento]"
   ]
  },
  {
   "cell_type": "code",
   "execution_count": 1,
   "id": "eda4d42d",
   "metadata": {},
   "outputs": [
    {
     "data": {
      "text/plain": [
       "['John', 'Yoko', 'Julian']"
      ]
     },
     "execution_count": 1,
     "metadata": {},
     "output_type": "execute_result"
    }
   ],
   "source": [
    "familia = [\"John\", \"Yoko\", \"Julian\", \"Sean\"]\n",
    "\n",
    "familia[0:3] "
   ]
  },
  {
   "cell_type": "code",
   "execution_count": 2,
   "id": "48e10d78",
   "metadata": {},
   "outputs": [
    {
     "data": {
      "text/plain": [
       "['Julian', 'Sean']"
      ]
     },
     "execution_count": 2,
     "metadata": {},
     "output_type": "execute_result"
    }
   ],
   "source": [
    "familia[2:4] "
   ]
  },
  {
   "cell_type": "code",
   "execution_count": 3,
   "id": "96c525cc",
   "metadata": {},
   "outputs": [
    {
     "data": {
      "text/plain": [
       "['John', 'Yoko']"
      ]
     },
     "execution_count": 3,
     "metadata": {},
     "output_type": "execute_result"
    }
   ],
   "source": [
    "familia[:2] "
   ]
  },
  {
   "cell_type": "code",
   "execution_count": 4,
   "id": "ec10d21f",
   "metadata": {},
   "outputs": [
    {
     "data": {
      "text/plain": [
       "['Julian', 'Sean']"
      ]
     },
     "execution_count": 4,
     "metadata": {},
     "output_type": "execute_result"
    }
   ],
   "source": [
    "familia[2:]"
   ]
  },
  {
   "cell_type": "code",
   "execution_count": 5,
   "id": "c55694f1",
   "metadata": {},
   "outputs": [
    {
     "data": {
      "text/plain": [
       "['John', 'Julian']"
      ]
     },
     "execution_count": 5,
     "metadata": {},
     "output_type": "execute_result"
    }
   ],
   "source": [
    "familia[::2] # do começo ao final indo de dois em dois"
   ]
  },
  {
   "cell_type": "code",
   "execution_count": 6,
   "id": "14c72180",
   "metadata": {},
   "outputs": [
    {
     "data": {
      "text/plain": [
       "['Yoko', 'Sean']"
      ]
     },
     "execution_count": 6,
     "metadata": {},
     "output_type": "execute_result"
    }
   ],
   "source": [
    "familia[1::2] # do começo até o final indo do 1 de dois em dois"
   ]
  },
  {
   "cell_type": "code",
   "execution_count": 7,
   "id": "7ecdf5be",
   "metadata": {},
   "outputs": [
    {
     "data": {
      "text/plain": [
       "['Yoko', 'Julian', 'Sean']"
      ]
     },
     "execution_count": 7,
     "metadata": {},
     "output_type": "execute_result"
    }
   ],
   "source": [
    "familia[-3:] "
   ]
  },
  {
   "cell_type": "code",
   "execution_count": 8,
   "id": "1c74d003",
   "metadata": {},
   "outputs": [
    {
     "data": {
      "text/plain": [
       "['John']"
      ]
     },
     "execution_count": 8,
     "metadata": {},
     "output_type": "execute_result"
    }
   ],
   "source": [
    "familia[:-3] "
   ]
  },
  {
   "cell_type": "code",
   "execution_count": 9,
   "id": "c7d822a2",
   "metadata": {},
   "outputs": [
    {
     "data": {
      "text/plain": [
       "['Sean', 'Julian', 'Yoko', 'John']"
      ]
     },
     "execution_count": 9,
     "metadata": {},
     "output_type": "execute_result"
    }
   ],
   "source": [
    "familia[::-1]  # Retorna invertida"
   ]
  },
  {
   "cell_type": "code",
   "execution_count": 10,
   "id": "f994c7e9",
   "metadata": {},
   "outputs": [
    {
     "data": {
      "text/plain": [
       "['Sean', 'Julian']"
      ]
     },
     "execution_count": 10,
     "metadata": {},
     "output_type": "execute_result"
    }
   ],
   "source": [
    "familia[3:1:-1]"
   ]
  },
  {
   "cell_type": "code",
   "execution_count": 22,
   "id": "00fa320a",
   "metadata": {},
   "outputs": [],
   "source": [
    "lista = [1,2,3,4,5,1,2,3,4,5,6,7,1,2,1,1, 9]"
   ]
  },
  {
   "cell_type": "code",
   "execution_count": 15,
   "id": "2147414e",
   "metadata": {},
   "outputs": [
    {
     "data": {
      "text/plain": [
       "5"
      ]
     },
     "execution_count": 15,
     "metadata": {},
     "output_type": "execute_result"
    }
   ],
   "source": [
    "lista.count(1) # quantos 1 há na lista"
   ]
  },
  {
   "cell_type": "code",
   "execution_count": 18,
   "id": "47436063",
   "metadata": {},
   "outputs": [
    {
     "data": {
      "text/plain": [
       "1"
      ]
     },
     "execution_count": 18,
     "metadata": {},
     "output_type": "execute_result"
    }
   ],
   "source": [
    "lista.index(2, 1, 9) # 3m qual índice está o 2 indo do ínicio 1 ao fim 9"
   ]
  },
  {
   "cell_type": "code",
   "execution_count": 23,
   "id": "a159aea2",
   "metadata": {},
   "outputs": [
    {
     "data": {
      "text/plain": [
       "[9, 1, 1, 2, 1, 7, 6, 5, 4, 3, 2, 1, 5, 4, 3, 2, 1]"
      ]
     },
     "execution_count": 23,
     "metadata": {},
     "output_type": "execute_result"
    }
   ],
   "source": [
    "lista.reverse() #modifica ela\n",
    "lista"
   ]
  },
  {
   "cell_type": "code",
   "execution_count": 24,
   "id": "d3bdd689",
   "metadata": {},
   "outputs": [
    {
     "data": {
      "text/plain": [
       "[9, 1, 1, 2, 1, 7, 6, 5, 4, 3, 2, 1, 5, 4, 3, 2, 1]"
      ]
     },
     "execution_count": 24,
     "metadata": {},
     "output_type": "execute_result"
    }
   ],
   "source": [
    "lista"
   ]
  },
  {
   "cell_type": "code",
   "execution_count": 27,
   "id": "84e79dc0",
   "metadata": {},
   "outputs": [
    {
     "data": {
      "text/plain": [
       "[1, 1, 1, 1, 1, 2, 2, 2, 3, 3, 4, 4, 5, 5, 6, 7, 9]"
      ]
     },
     "execution_count": 27,
     "metadata": {},
     "output_type": "execute_result"
    }
   ],
   "source": [
    "lista.sort(reverse=False)\n",
    "lista"
   ]
  },
  {
   "cell_type": "markdown",
   "id": "fe3493c0",
   "metadata": {},
   "source": [
    "## Cópia Rasa x Cópia Profunda"
   ]
  },
  {
   "cell_type": "code",
   "execution_count": 28,
   "id": "6ba2db72",
   "metadata": {},
   "outputs": [
    {
     "data": {
      "text/plain": [
       "(2577423056320, 2577422846016)"
      ]
     },
     "execution_count": 28,
     "metadata": {},
     "output_type": "execute_result"
    }
   ],
   "source": [
    "a = [1, 2, 3]\n",
    "b = [2, 3, 4]\n",
    "id(a), id(b) # são endereços diferentes"
   ]
  },
  {
   "cell_type": "markdown",
   "id": "3491bd38",
   "metadata": {},
   "source": [
    "### Copiar de verdade"
   ]
  },
  {
   "cell_type": "code",
   "execution_count": 33,
   "id": "b1551565",
   "metadata": {},
   "outputs": [
    {
     "name": "stdout",
     "output_type": "stream",
     "text": [
      "[1, 2, 3] [1, 2, 3]\n",
      "2577423148032 2577423056320\n"
     ]
    }
   ],
   "source": [
    "c = a[:] # Fatiamento gera uma nova lista\n",
    "print(c, a)\n",
    "print(id(c), id(a)) # Endereços diferentes"
   ]
  },
  {
   "cell_type": "markdown",
   "id": "6e9353f5",
   "metadata": {},
   "source": [
    "## listas 2d"
   ]
  },
  {
   "cell_type": "code",
   "execution_count": 35,
   "id": "1a4341c2",
   "metadata": {},
   "outputs": [
    {
     "data": {
      "text/plain": [
       "[[10, 20, 30], [40, 50, 60], [70, 80, 90]]"
      ]
     },
     "execution_count": 35,
     "metadata": {},
     "output_type": "execute_result"
    }
   ],
   "source": [
    "a = [ [10, 20, 30], [40, 50, 60], [70, 80, 90]]\n",
    "a"
   ]
  },
  {
   "cell_type": "code",
   "execution_count": 36,
   "id": "8ac54c0e",
   "metadata": {},
   "outputs": [
    {
     "data": {
      "text/plain": [
       "20"
      ]
     },
     "execution_count": 36,
     "metadata": {},
     "output_type": "execute_result"
    }
   ],
   "source": [
    "a[0][1] # linha 0 e coluna 1"
   ]
  },
  {
   "cell_type": "code",
   "execution_count": 37,
   "id": "5be3a0a5",
   "metadata": {},
   "outputs": [
    {
     "data": {
      "text/plain": [
       "[[10, 999, 30], [40, 50, 60], [70, 80, 90]]"
      ]
     },
     "execution_count": 37,
     "metadata": {},
     "output_type": "execute_result"
    }
   ],
   "source": [
    "a[0][1] = 999\n",
    "a"
   ]
  },
  {
   "cell_type": "code",
   "execution_count": 39,
   "id": "3824c055",
   "metadata": {},
   "outputs": [
    {
     "name": "stdout",
     "output_type": "stream",
     "text": [
      "10\n",
      "20\n",
      "30\n",
      "40\n",
      "50\n",
      "60\n"
     ]
    }
   ],
   "source": [
    "w = [[10, 20],\n",
    "[30, 40],\n",
    "[50, 60]]\n",
    "num_lins = len(w); num_cols = len(w[0])\n",
    "\n",
    "for i in range(num_lins):\n",
    "    for j in range(num_cols):\n",
    "        print(w[i][j])\n"
   ]
  },
  {
   "cell_type": "code",
   "execution_count": 40,
   "id": "769f7c63",
   "metadata": {},
   "outputs": [
    {
     "name": "stdout",
     "output_type": "stream",
     "text": [
      "    10    20\n",
      "    30    40\n",
      "    50    60\n"
     ]
    }
   ],
   "source": [
    "for i in range(num_lins):\n",
    "    for j in range(num_cols):\n",
    "        print(f\"{w[i][j]:>6}\", end=\"\")\n",
    "    print()"
   ]
  },
  {
   "cell_type": "markdown",
   "id": "b9b62a8a",
   "metadata": {},
   "source": [
    "## Pegando a diagonal, em caso de matriz quadrada"
   ]
  },
  {
   "cell_type": "code",
   "execution_count": 44,
   "id": "8f1f7b0b",
   "metadata": {},
   "outputs": [
    {
     "data": {
      "text/plain": [
       "[1, 5, 9]"
      ]
     },
     "execution_count": 44,
     "metadata": {},
     "output_type": "execute_result"
    }
   ],
   "source": [
    "m = [[1, 2, 3], [4, 5, 6], [7, 8, 9]] \n",
    "\n",
    "ordem = len(m) \n",
    "diagonal = []\n",
    "\n",
    "for i in range(ordem):\n",
    "    for j in range(ordem):\n",
    "        if i == j:\n",
    "            diagonal.append(m[i][j])\n",
    "\n",
    "diagonal # [1, 5, 9]"
   ]
  },
  {
   "cell_type": "code",
   "execution_count": null,
   "id": "b394f0d2",
   "metadata": {},
   "outputs": [],
   "source": []
  }
 ],
 "metadata": {
  "kernelspec": {
   "display_name": "Python 3 (ipykernel)",
   "language": "python",
   "name": "python3"
  },
  "language_info": {
   "codemirror_mode": {
    "name": "ipython",
    "version": 3
   },
   "file_extension": ".py",
   "mimetype": "text/x-python",
   "name": "python",
   "nbconvert_exporter": "python",
   "pygments_lexer": "ipython3",
   "version": "3.11.3"
  }
 },
 "nbformat": 4,
 "nbformat_minor": 5
}
