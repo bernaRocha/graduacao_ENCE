{
 "cells": [
  {
   "cell_type": "markdown",
   "id": "683ddf99",
   "metadata": {},
   "source": [
    "# Aula de operações aritméticas e funções matemáticas"
   ]
  },
  {
   "cell_type": "code",
   "execution_count": 1,
   "id": "d440d995",
   "metadata": {},
   "outputs": [
    {
     "data": {
      "text/plain": [
       "10.0"
      ]
     },
     "execution_count": 1,
     "metadata": {},
     "output_type": "execute_result"
    }
   ],
   "source": [
    "w = ((5 * ((25 % 13) + 100) / (2 * 13)) // 2)\n",
    "w"
   ]
  },
  {
   "cell_type": "markdown",
   "id": "247fbf2f",
   "metadata": {},
   "source": [
    "Toda divisão realizada com o operador / resultará em um\n",
    "valor float, mesmo que a divisão seja exata. "
   ]
  },
  {
   "cell_type": "code",
   "execution_count": 2,
   "id": "a72b751f",
   "metadata": {},
   "outputs": [
    {
     "data": {
      "text/plain": [
       "2.3333333333333335"
      ]
     },
     "execution_count": 2,
     "metadata": {},
     "output_type": "execute_result"
    }
   ],
   "source": [
    "7 / 3"
   ]
  },
  {
   "cell_type": "code",
   "execution_count": 3,
   "id": "e226bd00",
   "metadata": {},
   "outputs": [
    {
     "data": {
      "text/plain": [
       "2.5"
      ]
     },
     "execution_count": 3,
     "metadata": {},
     "output_type": "execute_result"
    }
   ],
   "source": [
    "8 / 3.2"
   ]
  },
  {
   "cell_type": "markdown",
   "id": "e84bf600",
   "metadata": {},
   "source": [
    " Ao contrário das outras operações, a exponenciação é\n",
    "resolvida da direita para esquerda (caso contrário não daria\n",
    "certo...)"
   ]
  },
  {
   "cell_type": "code",
   "execution_count": 5,
   "id": "4010ae8b",
   "metadata": {},
   "outputs": [
    {
     "data": {
      "text/plain": [
       "512"
      ]
     },
     "execution_count": 5,
     "metadata": {},
     "output_type": "execute_result"
    }
   ],
   "source": [
    "2 ** 3 ** 2"
   ]
  },
  {
   "cell_type": "code",
   "execution_count": 6,
   "id": "d778d543",
   "metadata": {},
   "outputs": [
    {
     "data": {
      "text/plain": [
       "512"
      ]
     },
     "execution_count": 6,
     "metadata": {},
     "output_type": "execute_result"
    }
   ],
   "source": [
    "2 ** 9"
   ]
  },
  {
   "cell_type": "code",
   "execution_count": 7,
   "id": "2dd12a8a",
   "metadata": {},
   "outputs": [
    {
     "data": {
      "text/plain": [
       "14"
      ]
     },
     "execution_count": 7,
     "metadata": {},
     "output_type": "execute_result"
    }
   ],
   "source": [
    "7 + int('7')"
   ]
  },
  {
   "cell_type": "code",
   "execution_count": 8,
   "id": "9c933a97",
   "metadata": {},
   "outputs": [
    {
     "name": "stdout",
     "output_type": "stream",
     "text": [
      "-0.5 0.5 0 1\n"
     ]
    }
   ],
   "source": [
    "print((-1 / 2), (1 / 2), (1 // 2), (1 % 2))"
   ]
  },
  {
   "cell_type": "code",
   "execution_count": 9,
   "id": "37660ddc",
   "metadata": {},
   "outputs": [
    {
     "name": "stdout",
     "output_type": "stream",
     "text": [
      "16 8.0 8\n"
     ]
    }
   ],
   "source": [
    "print((2 ** 4), (2 * 4.0), (2 * 4))"
   ]
  },
  {
   "cell_type": "code",
   "execution_count": 10,
   "id": "5c8fa2e6",
   "metadata": {},
   "outputs": [
    {
     "data": {
      "text/plain": [
       "'Oi, tudo bem?'"
      ]
     },
     "execution_count": 10,
     "metadata": {},
     "output_type": "execute_result"
    }
   ],
   "source": [
    "\"Oi\" + \", tudo bem?\""
   ]
  },
  {
   "cell_type": "code",
   "execution_count": 11,
   "id": "889d4963",
   "metadata": {},
   "outputs": [
    {
     "data": {
      "text/plain": [
       "'tchau tchau '"
      ]
     },
     "execution_count": 11,
     "metadata": {},
     "output_type": "execute_result"
    }
   ],
   "source": [
    "\"tchau \" * 2"
   ]
  },
  {
   "cell_type": "code",
   "execution_count": 14,
   "id": "5f8573ca",
   "metadata": {},
   "outputs": [
    {
     "name": "stdout",
     "output_type": "stream",
     "text": [
      "Fulando da Silva Sauro\n"
     ]
    }
   ],
   "source": [
    "nome = 'Fulando'\n",
    "s1 = ' da Silva'\n",
    "s2 = ' Sauro'\n",
    "nome_completo = nome + s1 + s2\n",
    "print(nome_completo)"
   ]
  },
  {
   "cell_type": "code",
   "execution_count": 15,
   "id": "6b9ef11a",
   "metadata": {},
   "outputs": [
    {
     "data": {
      "text/plain": [
       "'oioioi'"
      ]
     },
     "execution_count": 15,
     "metadata": {},
     "output_type": "execute_result"
    }
   ],
   "source": [
    "'oi' * 3"
   ]
  },
  {
   "cell_type": "code",
   "execution_count": null,
   "id": "2b52e64b",
   "metadata": {},
   "outputs": [],
   "source": []
  }
 ],
 "metadata": {
  "kernelspec": {
   "display_name": "Python 3 (ipykernel)",
   "language": "python",
   "name": "python3"
  },
  "language_info": {
   "codemirror_mode": {
    "name": "ipython",
    "version": 3
   },
   "file_extension": ".py",
   "mimetype": "text/x-python",
   "name": "python",
   "nbconvert_exporter": "python",
   "pygments_lexer": "ipython3",
   "version": "3.11.3"
  }
 },
 "nbformat": 4,
 "nbformat_minor": 5
}
